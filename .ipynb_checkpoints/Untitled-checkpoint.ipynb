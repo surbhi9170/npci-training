{
 "cells": [
  {
   "cell_type": "code",
   "execution_count": 1,
   "metadata": {},
   "outputs": [],
   "source": [
    "class Project():\n",
    "    def __init__(self,id,name,user):\n",
    "        self.id=id\n",
    "        self.name=name\n",
    "        self.user=user\n",
    "    "
   ]
  },
  {
   "cell_type": "code",
   "execution_count": 3,
   "metadata": {},
   "outputs": [],
   "source": [
    "class Users():\n",
    "    def __init__(self,id,name,salary):\n",
    "        self.id=id\n",
    "        self.name=name\n",
    "        self.salary=salary\n",
    "        "
   ]
  },
  {
   "cell_type": "code",
   "execution_count": 27,
   "metadata": {},
   "outputs": [],
   "source": [
    "users_list=[]\n",
    "users_list.append(Users(1,\"surbhi\",10000))\n",
    "users_list.append(Users(2,\"sejal\",20000))\n",
    "users_list.append(Users(3,\"akanksha\",4000))\n",
    "users_list.append(Users(4,\"gaurav\",60000))\n",
    "users_list.append(Users(5,\"jatin\",50000))\n",
    "users_list.append(Users(6,\"ram\",30000))\n",
    "users_list.append(Users(8,\"ujjwal\",15000))"
   ]
  },
  {
   "cell_type": "code",
   "execution_count": 28,
   "metadata": {},
   "outputs": [
    {
     "name": "stdout",
     "output_type": "stream",
     "text": [
      "1 surbhi 10000\n",
      "2 sejal 20000\n",
      "3 akanksha 4000\n",
      "4 gaurav 60000\n",
      "5 jatin 50000\n",
      "6 ram 30000\n",
      "8 ujjwal 15000\n"
     ]
    }
   ],
   "source": [
    "for i in users_list:\n",
    "    print(i.id,i.name,i.salary)"
   ]
  },
  {
   "cell_type": "code",
   "execution_count": 33,
   "metadata": {},
   "outputs": [],
   "source": [
    "project_list=[]\n",
    "project_list.append(Project(\"P1\",\"project1\",[i for i in users_list[:3]]))\n",
    "project_list.append(Project(\"P2\",\"project2\",[i for i in users_list[4:6]]))\n",
    "project_list.append(Project(\"P3\",\"project3\",[i for i in users_list[6:7]]))"
   ]
  },
  {
   "cell_type": "code",
   "execution_count": 35,
   "metadata": {},
   "outputs": [
    {
     "name": "stdout",
     "output_type": "stream",
     "text": [
      "P1 project1 [[1, 'surbhi'], [2, 'sejal'], [3, 'akanksha']]\n",
      "P2 project2 [[5, 'jatin'], [6, 'ram']]\n",
      "P3 project3 [[8, 'ujjwal']]\n"
     ]
    }
   ],
   "source": [
    "for i in project_list:\n",
    "    print(i.id,i.name,[[j.id,j.name] for j in i.user])\n"
   ]
  },
  {
   "cell_type": "code",
   "execution_count": null,
   "metadata": {},
   "outputs": [],
   "source": []
  }
 ],
 "metadata": {
  "kernelspec": {
   "display_name": "Python 3",
   "language": "python",
   "name": "python3"
  },
  "language_info": {
   "codemirror_mode": {
    "name": "ipython",
    "version": 3
   },
   "file_extension": ".py",
   "mimetype": "text/x-python",
   "name": "python",
   "nbconvert_exporter": "python",
   "pygments_lexer": "ipython3",
   "version": "3.7.6"
  }
 },
 "nbformat": 4,
 "nbformat_minor": 4
}
