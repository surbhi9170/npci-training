{
 "cells": [
  {
   "cell_type": "code",
   "execution_count": 26,
   "metadata": {},
   "outputs": [
    {
     "name": "stdout",
     "output_type": "stream",
     "text": [
      "tuple is: (1, 2, 5, (5, 8, 7, (8, 7, 1, (5, 1))))\n",
      "(1, 2, 5, (5, 8, 7, (8, 7, 1, (5, 1))))\n",
      "1\n",
      "(5, 8, 7, (8, 7, 1, (5, 1)))\n",
      "2\n",
      "(8, 7, 1, (5, 1))\n",
      "3\n",
      "(5, 1)\n",
      "4\n",
      "no of levels:  4\n",
      "[[1, 2, 5], [5, 8, 7], [8, 7, 1], (5, 1)]\n",
      " 1\n",
      "  _\n",
      "   1\n",
      "    1\n",
      " 2\n",
      "  _\n",
      "   _\n",
      "    _\n",
      " 5\n",
      "  5\n",
      "   _\n",
      "    5\n",
      " _\n",
      "  _\n",
      "   _\n",
      "    _\n"
     ]
    }
   ],
   "source": [
    "#Assignment 1\n",
    "t=(1,2,5,(5,8,7,(8,7,1,(5,1))))\n",
    "t1=t\n",
    "print(\"tuple is:\",t)\n",
    "c=0\n",
    "l=[]\n",
    "l1=[]\n",
    "while t:\n",
    "    for i in t:\n",
    "        if isinstance(i,tuple):\n",
    "            print(t)\n",
    "            l.append(l1)\n",
    "            l1=[]\n",
    "            t=i\n",
    "            del i\n",
    "            c=c+1\n",
    "            print(c)\n",
    "        else:\n",
    "            l1.append(i)\n",
    "    \n",
    "    if len(t)==2:\n",
    "        l.append(t)\n",
    "        print(t)\n",
    "        c=c+1\n",
    "        print(c)\n",
    "        break\n",
    "        \n",
    "print(\"no of levels: \",c)      \n",
    "level =c\n",
    "print(l)\n",
    "s=\" \"\n",
    "for i in t1:\n",
    "    for j in l:\n",
    "        if i in j:\n",
    "            print(s*(l.index(j)+1)+str(i))\n",
    "        else:\n",
    "            print(s*(l.index(j)+1)+\"_\")\n",
    "   "
   ]
  },
  {
   "cell_type": "code",
   "execution_count": 29,
   "metadata": {},
   "outputs": [
    {
     "data": {
      "text/plain": [
       "[29, 5, 4, 3, 1]"
      ]
     },
     "execution_count": 29,
     "metadata": {},
     "output_type": "execute_result"
    }
   ],
   "source": [
    "#Assignment 2\n",
    "\n",
    "s={1,3,5,4,29}\n",
    "l=[]\n",
    "for i in s:\n",
    "    l.insert(0,i)\n",
    "    \n",
    "l"
   ]
  },
  {
   "cell_type": "code",
   "execution_count": null,
   "metadata": {},
   "outputs": [],
   "source": []
  }
 ],
 "metadata": {
  "kernelspec": {
   "display_name": "Python 3",
   "language": "python",
   "name": "python3"
  },
  "language_info": {
   "codemirror_mode": {
    "name": "ipython",
    "version": 3
   },
   "file_extension": ".py",
   "mimetype": "text/x-python",
   "name": "python",
   "nbconvert_exporter": "python",
   "pygments_lexer": "ipython3",
   "version": "3.7.6"
  }
 },
 "nbformat": 4,
 "nbformat_minor": 4
}
