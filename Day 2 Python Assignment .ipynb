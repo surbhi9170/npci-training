{
 "cells": [
  {
   "cell_type": "code",
   "execution_count": 23,
   "metadata": {},
   "outputs": [
    {
     "name": "stdout",
     "output_type": "stream",
     "text": [
      "tuple is: (1, 2, 5, (5, 8, 7, (8, 7, 1, (5, 1))))\n",
      "(1, 2, 5, (5, 8, 7, (8, 7, 1, (5, 1))))\n",
      "1\n",
      "(5, 8, 7, (8, 7, 1, (5, 1)))\n",
      "2\n",
      "(8, 7, 1, (5, 1))\n",
      "3\n",
      "(5, 1)\n",
      "4\n",
      "no of levels:  4\n",
      "[[1, 2, 5], [5, 8, 7], [8, 7, 1], []]\n",
      " 1\n",
      "  _\n",
      "   1\n",
      "    _\n",
      " 2\n",
      "  _\n",
      "   _\n",
      "    _\n",
      " 5\n",
      "  5\n",
      "   _\n",
      "    _\n",
      " _\n",
      "  _\n",
      "   _\n",
      "    _\n"
     ]
    }
   ],
   "source": [
    "#Assignment 1\n",
    "t=(1,2,5,(5,8,7,(8,7,1,(5,1))))\n",
    "t1=t\n",
    "print(\"tuple is:\",t)\n",
    "c=0\n",
    "l=[]\n",
    "l1=[]\n",
    "while t:\n",
    "    for i in t:\n",
    "        if isinstance(i,tuple):\n",
    "            print(t)\n",
    "            l.append(l1)\n",
    "            l1=[]\n",
    "            t=i\n",
    "            del i\n",
    "            c=c+1\n",
    "            print(c)\n",
    "        else:\n",
    "            l1.append(i)\n",
    "    \n",
    "    if len(t)==2:\n",
    "        l.append(l1)\n",
    "        print(t)\n",
    "        c=c+1\n",
    "        print(c)\n",
    "        break\n",
    "        \n",
    "print(\"no of levels: \",c)      \n",
    "level =c\n",
    "print(l)\n",
    "s=\" \"\n",
    "for i in t1:\n",
    "    for j in l:\n",
    "        if i in j:\n",
    "            print(s*(l.index(j)+1)+str(i))\n",
    "        else:\n",
    "            print(s*(l.index(j)+1)+\"_\")\n",
    "   "
   ]
  },
  {
   "cell_type": "code",
   "execution_count": 30,
   "metadata": {},
   "outputs": [
    {
     "data": {
      "text/plain": [
       "[29, 5, 4, 3, 1]"
      ]
     },
     "execution_count": 30,
     "metadata": {},
     "output_type": "execute_result"
    }
   ],
   "source": [
    "#Assignment 2\n",
    "\n",
    "s={1,3,5,4,29}\n",
    "l=[]\n",
    "for i in s:\n",
    "    l.insert(0,i)\n",
    "    \n",
    "l"
   ]
  },
  {
   "cell_type": "code",
   "execution_count": 39,
   "metadata": {},
   "outputs": [
    {
     "name": "stdout",
     "output_type": "stream",
     "text": [
      "string 1sri\n",
      "string 2irs\n",
      "string 3ris\n",
      "Strings are anagrams\n"
     ]
    }
   ],
   "source": [
    "#assignment 3\n",
    "\n",
    "s1=set(input(\"string 1\"))\n",
    "s2=set(input(\"string 2\"))\n",
    "s3=set(input(\"string 3\"))\n",
    "\n",
    "if s1==s2 and s2==s3:\n",
    "    print(\"Strings are anagrams\")\n",
    "else:\n",
    "    print(\"Strings are not anagrams\")"
   ]
  },
  {
   "cell_type": "code",
   "execution_count": 54,
   "metadata": {},
   "outputs": [
    {
     "data": {
      "text/plain": [
       "{2, 4}"
      ]
     },
     "execution_count": 54,
     "metadata": {},
     "output_type": "execute_result"
    }
   ],
   "source": [
    "#Assignment 4\n",
    "\n",
    "seq=[1,3,7,9,11,13]\n",
    "k=0\n",
    "l=list()\n",
    "for i in range(1,len(seq)):\n",
    "    l.append(seq[i]-seq[i-1])\n",
    "s=set(l)\n",
    "\n",
    "            `"
   ]
  },
  {
   "cell_type": "code",
   "execution_count": 149,
   "metadata": {},
   "outputs": [
    {
     "name": "stdout",
     "output_type": "stream",
     "text": [
      "{\n",
      "  one : one1\n",
      "  two : two1\n",
      "  zero : zero1\n",
      "}\n"
     ]
    }
   ],
   "source": [
    "#Assignment 5\n",
    "\n",
    "def get_key(value,d):\n",
    "    for k,v in d.items():\n",
    "        if v==value:\n",
    "            return k\n",
    "\n",
    "def sortMap(kwargs):\n",
    "    print(\"{\")\n",
    "    for i in sorted(kwargs.values()):\n",
    "        print(\" \",get_key(i,kwargs),\":\",i)\n",
    "    print(\"}\")\n",
    "        \n",
    "            \n",
    "k={'zero':'zero1','one':'one1','two':'two1'}\n",
    "sortMap(k)\n",
    "        "
   ]
  },
  {
   "cell_type": "code",
   "execution_count": 154,
   "metadata": {},
   "outputs": [
    {
     "name": "stdout",
     "output_type": "stream",
     "text": [
      "process\n",
      "[5, 3] [2, 1, 7]\n",
      "[5] [3]\n",
      "[2] [1, 7]\n",
      "[1] [7]\n",
      "-----------------------------------\n",
      "sorted list\n",
      "[1, 2, 3, 5, 7]\n",
      "------------------------------------------------------------------\n",
      "process\n",
      "[2, 3] [19, 1]\n",
      "[2] [3]\n",
      "[19] [1]\n",
      "----------------------------------- \n",
      "sorted tuple\n",
      "(2, 3, 19, 1)\n",
      "------------------------------------------------------------------\n",
      "process\n",
      "[9, 2] [54, 23]\n",
      "[9] [2]\n",
      "[54] [23]\n",
      "--------------------------------------------------- \n",
      "sorted set\n",
      "{2,9,23,54,}\n",
      "------------------------------------------------------------------\n",
      "process\n",
      "[3, 1] [21, 9]\n",
      "[3] [1]\n",
      "[21] [9]\n",
      "--------------------------------------------------- \n",
      "sorted dictionary [2, 9, 23, 54]\n",
      "{2 : 1 , 1 : 3 , 4 : 9 , 3 : 21 , }\n"
     ]
    }
   ],
   "source": [
    "#Assignment 6 merge sort\n",
    "\n",
    "\n",
    "def mergeSort(arr):\n",
    "    size=len(arr)\n",
    "    if size>1:\n",
    "        mid=size//2\n",
    "        left=arr[:mid]\n",
    "        right=arr[mid:]\n",
    "        print(left,right)\n",
    "        mergeSort(left)\n",
    "        mergeSort(right)        \n",
    "        \n",
    "        i=0\n",
    "        j=0\n",
    "        k=0\n",
    "        s_list=[]\n",
    "        while i<len(left) and j<len(right):\n",
    "            if left[i]<right[j]:\n",
    "                arr[k]=(left[i])\n",
    "                i=i+1\n",
    "                k=k+1\n",
    "            elif right[i]<left[i]:\n",
    "                arr[k]=(right[j])\n",
    "                j=j+1\n",
    "                k=k+1\n",
    "            else:\n",
    "                arr[k]=(left[i])\n",
    "                arr[k]=(right[j])\n",
    "                i=i+1\n",
    "                k=k+1\n",
    "                j=j+1\n",
    "                k=k+1\n",
    "        while i<len(left):\n",
    "            arr[k]=(left[i])\n",
    "            i=i+1\n",
    "            k=k+1\n",
    "        while j<len(right):\n",
    "            arr[k]=(right[j])\n",
    "            j=j+1\n",
    "            k=k+1\n",
    "    \n",
    "l=[5,3,2,1,7]\n",
    "print(\"process\")\n",
    "mergeSort(l)\n",
    "print(\"-----------------------------------\\nsorted list\")\n",
    "print(l)        \n",
    "\n",
    "print(\"------------------------------------------------------------------\")\n",
    "t=(2,3,19,1)\n",
    "print(\"process\")\n",
    "mergeSort(list(t))\n",
    "print(\"----------------------------------- \\nsorted tuple\")\n",
    "print(tuple(t))    \n",
    "\n",
    "\n",
    "print(\"------------------------------------------------------------------\")\n",
    "s={54,2,9,23}\n",
    "print(\"process\")\n",
    "s1=list(s)\n",
    "mergeSort(s1)\n",
    "print(\"--------------------------------------------------- \\nsorted set\")\n",
    "print(\"{\",end=\"\")\n",
    "for i in s1:\n",
    "    print(i,end=\",\")\n",
    "print(\"}\")\n",
    "\n",
    "\n",
    "print(\"------------------------------------------------------------------\")\n",
    "dic={'1':3,'2':1,'3':21,'4':9}\n",
    "print(\"process\")\n",
    "d1=list(dic.values())\n",
    "mergeSort(d1)\n",
    "print(\"--------------------------------------------------- \\nsorted dictionary\",s1)\n",
    "print(\"{\",end=\"\")\n",
    "for i in d1:\n",
    "    print(get_key(i,dic),\":\",i,end=\" , \")\n",
    "print(\"}\")"
   ]
  },
  {
   "cell_type": "code",
   "execution_count": 148,
   "metadata": {},
   "outputs": [
    {
     "name": "stdout",
     "output_type": "stream",
     "text": [
      "2\n",
      "None\n"
     ]
    }
   ],
   "source": [
    "dic={'1':3,'2':1,'3':2,'4':9}\n",
    "s1=dic.values()\n",
    "list(s1)\n",
    "print(dic['3'])\n",
    "print(dic.get(1))"
   ]
  },
  {
   "cell_type": "code",
   "execution_count": null,
   "metadata": {},
   "outputs": [],
   "source": []
  }
 ],
 "metadata": {
  "kernelspec": {
   "display_name": "Python 3",
   "language": "python",
   "name": "python3"
  },
  "language_info": {
   "codemirror_mode": {
    "name": "ipython",
    "version": 3
   },
   "file_extension": ".py",
   "mimetype": "text/x-python",
   "name": "python",
   "nbconvert_exporter": "python",
   "pygments_lexer": "ipython3",
   "version": "3.7.6"
  }
 },
 "nbformat": 4,
 "nbformat_minor": 4
}
