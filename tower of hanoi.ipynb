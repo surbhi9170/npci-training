{
 "cells": [
  {
   "cell_type": "code",
   "execution_count": 35,
   "metadata": {},
   "outputs": [
    {
     "name": "stdout",
     "output_type": "stream",
     "text": [
      "enter no of tower5\n",
      "    1 \n",
      "   2 2  \n",
      "  3 3 3   \n",
      " 4 4 4 4    \n",
      "5 5 5 5 5     \n",
      "row  1 : 1\n",
      "row  2 : 4\n",
      "row  3 : 9\n",
      "row  4 : 16\n",
      "row  5 : 25\n"
     ]
    }
   ],
   "source": [
    "n=int(input(\"enter no of tower\"))\n",
    "l=[]\n",
    "for i in range(1,n+1):\n",
    "    for j in range(1,n+1):\n",
    "        \n",
    "        if j==(n-i+1):\n",
    "            s=str(i)+\" \"\n",
    "            print(s*(i),end='')\n",
    "        else:\n",
    "            print(\" \",end='')\n",
    "    print()\n",
    "    l.append(i*i)\n",
    "    \n",
    "for i in l:\n",
    "    print(\"row \",l.index(i)+1,\":\",i)\n"
   ]
  },
  {
   "cell_type": "code",
   "execution_count": 44,
   "metadata": {},
   "outputs": [
    {
     "name": "stdout",
     "output_type": "stream",
     "text": [
      "enter no of tower5\n",
      "    1 \n",
      "   3 3  \n",
      "  5 5 5   \n",
      " 7 7 7 7    \n",
      "9 9 9 9 9     \n",
      "row  1 : 1\n",
      "row  2 : 6\n",
      "row  3 : 15\n",
      "row  4 : 28\n",
      "row  5 : 45\n"
     ]
    }
   ],
   "source": [
    "#part 2\n",
    "n=int(input(\"enter no of tower\"))\n",
    "l=[]\n",
    "k=1\n",
    "for i in range(1,n+1):\n",
    "    for j in range(1,n+1):\n",
    "        \n",
    "        if j==(n-i+1):\n",
    "            s=str(k)+\" \"\n",
    "            print(s*(i),end='')\n",
    "        else:\n",
    "            print(\" \",end='')\n",
    "    print()\n",
    "    l.append(i*k)\n",
    "    k=k+2\n",
    "    \n",
    "    \n",
    "for i in l:\n",
    "    print(\"row \",l.index(i)+1,\":\",i)\n"
   ]
  },
  {
   "cell_type": "code",
   "execution_count": 134,
   "metadata": {
    "scrolled": false
   },
   "outputs": [
    {
     "name": "stdout",
     "output_type": "stream",
     "text": [
      "enter no of tower3\n",
      "enter the difference you want in the tower3\n",
      "        1      \n",
      "    4      5      \n",
      "7      8      9      \n",
      "-------------------------------------------\n",
      "row  1 : 1\n",
      "row  2 : 9\n",
      "row  3 : 24\n",
      "-------------------------------------------\n",
      "[7, 0, 8, 0, 9]\n",
      "[0, 4, 0, 5, 0]\n",
      "[0, 0, 1, 0, 0]\n",
      "-------------------------------------------\n",
      "square of matrix\n",
      "[49, 0, 64, 0, 81]\n",
      "[0, 16, 0, 25, 0]\n",
      "[0, 0, 1, 0, 0]\n"
     ]
    }
   ],
   "source": [
    "#part3\n",
    "###output 1 and 2\n",
    "n=int(input(\"enter no of tower\"))\n",
    "x=int(input(\"enter the difference you want in the tower\"))\n",
    "l=[]\n",
    "l1=list()\n",
    "k=1\n",
    "for i in range(1,n+1):\n",
    "    for j in range(1,n+1):\n",
    "        t=k\n",
    "        if j==(n-i+1):\n",
    "            for m in range(1,i+1):\n",
    "                l1.append(t)\n",
    "                l1.append(0)\n",
    "                s=str(t)+\"    \"\n",
    "                print(s,end='  ')\n",
    "                t=t+1\n",
    "            break\n",
    "        else:\n",
    "            l1.append(0)\n",
    "            print(\"  \",end='  ')\n",
    "    print()\n",
    "    l.append(l1[:n*2-1])\n",
    "    l1=[]\n",
    "    k=k+x\n",
    "    \n",
    "#output2    \n",
    "print(\"-------------------------------------------\")\n",
    "for i in l:\n",
    "    print(\"row \",l.index(i)+1,\":\",sum(i))\n",
    "\n",
    "    \n",
    "#output3\n",
    "print(\"-------------------------------------------\")\n",
    "\n",
    "for i in l:\n",
    "    if len(i)!=n*2-1:\n",
    "        for j in range(len(i),n*2-1):\n",
    "            i.append(0)\n",
    "        \n",
    "\n",
    "for i in reversed(l):\n",
    "    print(i)\n",
    "\n",
    "#output 4 square of matrices\n",
    "print(\"-------------------------------------------\")\n",
    "print(\"square of matrix\")\n",
    "l2=[]\n",
    "l3=[]\n",
    "for i in l:\n",
    "    for j in i:\n",
    "        l2.append(j*j)\n",
    "    l3.append(l2)\n",
    "    l2=[]\n",
    "for i in reversed(l3):\n",
    "    print(i)"
   ]
  },
  {
   "cell_type": "code",
   "execution_count": null,
   "metadata": {},
   "outputs": [],
   "source": []
  }
 ],
 "metadata": {
  "kernelspec": {
   "display_name": "Python 3",
   "language": "python",
   "name": "python3"
  },
  "language_info": {
   "codemirror_mode": {
    "name": "ipython",
    "version": 3
   },
   "file_extension": ".py",
   "mimetype": "text/x-python",
   "name": "python",
   "nbconvert_exporter": "python",
   "pygments_lexer": "ipython3",
   "version": "3.7.6"
  }
 },
 "nbformat": 4,
 "nbformat_minor": 4
}
