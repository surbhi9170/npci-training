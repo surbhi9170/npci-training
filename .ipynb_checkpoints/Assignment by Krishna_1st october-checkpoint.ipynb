{
 "cells": [
  {
   "cell_type": "code",
   "execution_count": 5,
   "metadata": {},
   "outputs": [
    {
     "name": "stdout",
     "output_type": "stream",
     "text": [
      "[1, 2, 3, 4] ['a', 'b', 'c'] [1, (2, 4), 5.6] [1, 'surbhi', 2, 'jain']\n"
     ]
    }
   ],
   "source": [
    "##list\n",
    "\n",
    "l1=[1,2,3,4]\n",
    "l2=[\"a\",\"b\",'c']\n",
    "l3=[(1),(2,4),(5.6)]\n",
    "l4=[1,\"surbhi\",2,\"jain\"]\n",
    "print(l1,l2,l3,l4)"
   ]
  },
  {
   "cell_type": "code",
   "execution_count": 7,
   "metadata": {},
   "outputs": [
    {
     "name": "stdout",
     "output_type": "stream",
     "text": [
      "(1, 2, 3, 4) ('a', 'b', 'c') (1, (2, 4), 5.6) (1, 'surbhi', 2, 'jain')\n"
     ]
    }
   ],
   "source": [
    "##Tuples\n",
    "\n",
    "l1=(1,2,3,4)\n",
    "l2=(\"a\",\"b\",'c')\n",
    "l3=((1),(2,4),(5.6))\n",
    "l4=(1,\"surbhi\",2,\"jain\")\n",
    "print(l1,l2,l3,l4)"
   ]
  },
  {
   "cell_type": "code",
   "execution_count": 8,
   "metadata": {},
   "outputs": [
    {
     "name": "stdout",
     "output_type": "stream",
     "text": [
      "{1, 2, 3, 4} {'b', 'c', 'a'} {1, 5.6, (2, 4)} {1, 2, 'jain', 'surbhi'}\n"
     ]
    }
   ],
   "source": [
    "##set\n",
    "\n",
    "l1={1,2,3,4}\n",
    "l2={\"a\",\"b\",'c'}\n",
    "l3={(1),(2,4),(5.6)}\n",
    "l4={1,\"surbhi\",2,\"jain\"}\n",
    "print(l1,l2,l3,l4)"
   ]
  },
  {
   "cell_type": "code",
   "execution_count": 12,
   "metadata": {},
   "outputs": [
    {
     "name": "stdout",
     "output_type": "stream",
     "text": [
      "{1: 1, 2: 2, 3: 3} {'1': 1, '2': 2} {'surbhi': '1', 'jain': '2'} {'1': [1, 2, 4], '2': [6, 2, 1]}\n"
     ]
    }
   ],
   "source": [
    "##dictionary\n",
    "\n",
    "d1={1:1,2:2,3:3}\n",
    "d2={'1':1,'2':2}\n",
    "d3={'surbhi':'1','jain':'2'}\n",
    "d4={'1':[1,2,4],'2':[6,2,1]}\n",
    "print(d1,d2,d3,d4)"
   ]
  },
  {
   "cell_type": "code",
   "execution_count": null,
   "metadata": {},
   "outputs": [],
   "source": []
  }
 ],
 "metadata": {
  "kernelspec": {
   "display_name": "Python 3",
   "language": "python",
   "name": "python3"
  },
  "language_info": {
   "codemirror_mode": {
    "name": "ipython",
    "version": 3
   },
   "file_extension": ".py",
   "mimetype": "text/x-python",
   "name": "python",
   "nbconvert_exporter": "python",
   "pygments_lexer": "ipython3",
   "version": "3.7.6"
  }
 },
 "nbformat": 4,
 "nbformat_minor": 4
}
