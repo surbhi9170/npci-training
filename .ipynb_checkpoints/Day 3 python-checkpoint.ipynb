{
 "cells": [
  {
   "cell_type": "code",
   "execution_count": 2,
   "metadata": {},
   "outputs": [
    {
     "name": "stdout",
     "output_type": "stream",
     "text": [
      "1. To add new element to the list \n",
      "2. to create dictionary from a list\n",
      "sort dictionary in descending order based on value\n",
      "Enter your choice3\n",
      "enter elements of list1,2,3\n",
      "{3: 3, 2: 2, 1: 1}\n"
     ]
    }
   ],
   "source": [
    "#Assignment 1\n",
    "\n",
    "print(\"1. To add new element to the list \")\n",
    "print(\"2. to create dictionary from a list\")\n",
    "print(\"sort dictionary in descending order based on value\")\n",
    "ch=int(input(\"Enter your choice\"))\n",
    "\n",
    "l=list(map(lambda x: int(x),(input(\"enter elements of list\").split(\",\"))))\n",
    "\n",
    "if ch==1:\n",
    "    new=int(input(\"enter element to be added\"))\n",
    "    l.append(new)\n",
    "    print(l)\n",
    "elif ch==2:\n",
    "    dic={i:i for i in l}\n",
    "    print(dic)\n",
    "elif ch==3:\n",
    "    rl=sorted(l,reverse=True)\n",
    "    dic={i:i for i in rl}\n",
    "    print(dic)"
   ]
  },
  {
   "cell_type": "code",
   "execution_count": null,
   "metadata": {},
   "outputs": [
    {
     "name": "stdout",
     "output_type": "stream",
     "text": [
      "Starting balance: 5800\n",
      "To withdraw money \n",
      "enter the amount to be withdrawn: 220\n",
      "THIS DENOMINATION COMBINATION IS NOT AVAILABLE\n",
      "['withdrawn 0 remaining balance: 5800']\n"
     ]
    }
   ],
   "source": [
    "#Assignment 2\n",
    "\n",
    "balance=0\n",
    "wallet={100:2,200:3,500:10}\n",
    "for i in wallet:\n",
    "    balance=balance+(i*wallet[i])\n",
    "print(\"Starting balance:\",balance)\n",
    "l=[]\n",
    "while(True):\n",
    "    print(\"To withdraw money \")\n",
    "    amt=int(input(\"enter the amount to be withdrawn: \"))\n",
    "    if amt< (balance*90)/100:\n",
    "        amt1=amt\n",
    "        #print(\"check 90% balance\")\n",
    "        while(amt1!=0):\n",
    "            if amt1%500==0:\n",
    "                #print(\"check 500\")\n",
    "                if amt1/500<=wallet[500]:\n",
    "                    amt1=0\n",
    "                    wallet[200]-=amt1/200\n",
    "                else:\n",
    "                    am1t=amt1-wallet[500]*500\n",
    "                    wallet[500]=0\n",
    "                \n",
    "            elif amt1%200==0:\n",
    "                #print(\"check 200\")\n",
    "                if amt1/200<=wallet[200]:\n",
    "                    amt1=0\n",
    "                    wallet[200]-=amt1/200\n",
    "                else:\n",
    "                    am1t=amt1-wallet[200]*200\n",
    "                    wallet[200]=0\n",
    "                \n",
    "            elif amt1%100==0:\n",
    "                #print(\"check 100\")\n",
    "                if amt1/100<=wallet[100]:\n",
    "                    amt1=0\n",
    "                    wallet[100]-=amt1/100\n",
    "                    #print(amt1)\n",
    "                else:\n",
    "                    am1t=amt1-(wallet[100]*100)\n",
    "                    wallet[100]=0\n",
    "                    #print(amt1)\n",
    "            else:\n",
    "                print(\"THIS DENOMINATION COMBINATION IS NOT AVAILABLE\")\n",
    "                amt=0\n",
    "                break;\n",
    "        balance=balance-amt\n",
    "        l.append(\"withdrawn \"+str(amt)+\" remaining balance: \"+str(balance))\n",
    "        print(l)\n",
    "    else:\n",
    "        print(\"you don't have suffucient balance\")\n",
    "        \n",
    "        \n",
    "    ch=int(input(\"to continue press 0 to exit press 1\"))\n",
    "    if ch==1:\n",
    "        break\n",
    "\n",
    "\n",
    "        "
   ]
  },
  {
   "cell_type": "code",
   "execution_count": null,
   "metadata": {},
   "outputs": [],
   "source": []
  },
  {
   "cell_type": "code",
   "execution_count": null,
   "metadata": {},
   "outputs": [],
   "source": []
  }
 ],
 "metadata": {
  "kernelspec": {
   "display_name": "Python 3",
   "language": "python",
   "name": "python3"
  },
  "language_info": {
   "codemirror_mode": {
    "name": "ipython",
    "version": 3
   },
   "file_extension": ".py",
   "mimetype": "text/x-python",
   "name": "python",
   "nbconvert_exporter": "python",
   "pygments_lexer": "ipython3",
   "version": "3.7.6"
  }
 },
 "nbformat": 4,
 "nbformat_minor": 4
}
