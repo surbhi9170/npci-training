{
 "cells": [
  {
   "cell_type": "code",
   "execution_count": 2,
   "metadata": {},
   "outputs": [
    {
     "name": "stdout",
     "output_type": "stream",
     "text": [
      "1. To add new element to the list \n",
      "2. to create dictionary from a list\n",
      "sort dictionary in descending order based on value\n",
      "Enter your choice3\n",
      "enter elements of list1,2,3\n",
      "{3: 3, 2: 2, 1: 1}\n"
     ]
    }
   ],
   "source": [
    "#Assignment 1\n",
    "\n",
    "print(\"1. To add new element to the list \")\n",
    "print(\"2. to create dictionary from a list\")\n",
    "print(\"sort dictionary in descending order based on value\")\n",
    "ch=int(input(\"Enter your choice\"))\n",
    "\n",
    "l=list(map(lambda x: int(x),(input(\"enter elements of list\").split(\",\"))))\n",
    "\n",
    "if ch==1:\n",
    "    new=int(input(\"enter element to be added\"))\n",
    "    l.append(new)\n",
    "    print(l)\n",
    "elif ch==2:\n",
    "    dic={i:i for i in l}\n",
    "    print(dic)\n",
    "elif ch==3:\n",
    "    rl=sorted(l,reverse=True)\n",
    "    dic={i:i for i in rl}\n",
    "    print(dic)"
   ]
  },
  {
   "cell_type": "code",
   "execution_count": 1,
   "metadata": {},
   "outputs": [
    {
     "name": "stdout",
     "output_type": "stream",
     "text": [
      "Starting balance: 6000\n",
      "To withdraw money \n",
      "enter the amount to be withdrawn: 100\n",
      "check100 100\n",
      "-----------------------------------------------------------------------------\n",
      "['withdrawn 100 remaining balance: 5900']\n",
      "-----------------------------------------------------------------------------\n",
      "{100: 1, 200: 4, 500: 10}\n",
      "0. to continue press 0 \n",
      "1. to exit press 1 \n",
      "2. to view last 3 transactions press 2\n",
      "500\n",
      "To withdraw money \n",
      "enter the amount to be withdrawn: 500\n",
      "check500\n",
      "-----------------------------------------------------------------------------\n",
      "['withdrawn 100 remaining balance: 5900', 'withdrawn 500 remaining balance: 5400']\n",
      "-----------------------------------------------------------------------------\n",
      "{100: 1, 200: 9, 500: 10}\n",
      "0. to continue press 0 \n",
      "1. to exit press 1 \n",
      "2. to view last 3 transactions press 2\n",
      " 0\n",
      "To withdraw money \n",
      "enter the amount to be withdrawn: 220\n",
      "THIS DENOMINATION COMBINATION IS NOT AVAILABLE\n",
      "-----------------------------------------------------------------------------\n",
      "['withdrawn 100 remaining balance: 5900', 'withdrawn 500 remaining balance: 5400', 'withdrawn 0 remaining balance: 5400']\n",
      "-----------------------------------------------------------------------------\n",
      "{100: 1, 200: 9, 500: 10}\n",
      "0. to continue press 0 \n",
      "1. to exit press 1 \n",
      "2. to view last 3 transactions press 2\n",
      "1\n"
     ]
    }
   ],
   "source": [
    "#Assignment 2 approach 2\n",
    "\n",
    "balance=0\n",
    "wallet={100:2,200:4,500:10}\n",
    "for i in wallet:\n",
    "    balance=balance+(i*wallet[i])\n",
    "print(\"Starting balance:\",balance)\n",
    "\n",
    "\n",
    "\"\"\"wallet[200]=wallet[200]-int(200/100)\n",
    "print(wallet[100])\n",
    "print(wallet[200])\n",
    "print(wallet[500])\"\"\"\n",
    "\n",
    "\n",
    "def check_min_balance(amt):\n",
    "    return amt< (balance*90)/100\n",
    "def check100(amt1):\n",
    "    print(\"check100\",amt1)\n",
    "    if wallet[100]!=0:\n",
    "        if amt1/100<=wallet[100]:\n",
    "            wallet[100]=wallet[100] - int(amt1/100)\n",
    "            amt1=amt1-int(amt1/100)*100\n",
    "        else:\n",
    "            am1t=amt1-(wallet[100]*100)\n",
    "            wallet[100]=0\n",
    "        return amt1\n",
    "                    \n",
    "    else:\n",
    "        check200(amt1)\n",
    "        check500(amt1)\n",
    "        return 0\n",
    "\n",
    "def check200(amt1):\n",
    "    print(\"check200\",amt1)\n",
    "    if wallet[200]!=0:\n",
    "        print(\"check if balance is available\")\n",
    "        if amt1/200<=wallet[200]:\n",
    "            wallet[200]=wallet[200]-int(amt1/200)\n",
    "            print(wallet[200])\n",
    "            amt1=0\n",
    "        else:\n",
    "            am1t=amt1-(wallet[200] * 200)\n",
    "            wallet[200]=0\n",
    "        return amt1\n",
    "\n",
    "    else:\n",
    "        check500(amt1)\n",
    "        check200(amt1)\n",
    "        return 0\n",
    "\n",
    "def check500(amt1):\n",
    "    print(\"check500\")\n",
    "    if wallet[500]!=0:\n",
    "        if amt1/500<=wallet[500]:\n",
    "                        \n",
    "            wallet[200]=wallet[500]-int(amt1/500)\n",
    "            amt1=0\n",
    "        else:\n",
    "            am1t=amt1-(wallet[500]*500)\n",
    "            wallet[500]=0\n",
    "        return amt1\n",
    "    else:\n",
    "        check200()\n",
    "        check100()\n",
    "        return 0\n",
    "\n",
    "l=[]\n",
    "amt=0\n",
    "while(True):\n",
    "    print(\"To withdraw money \")\n",
    "    amt=int(input(\"enter the amount to be withdrawn: \"))\n",
    "    if check_min_balance(amt):\n",
    "        amt1=amt\n",
    "        #print(\"check 90% balance\")\n",
    "        while(amt1!=0):\n",
    "            if amt1%500==0:\n",
    "                amt1=check500(amt1)\n",
    "                    \n",
    "            elif amt1%200==0:\n",
    "                \n",
    "                amt1=check200(amt1)\n",
    "                    \n",
    "            elif amt1%100==0:\n",
    "                \n",
    "                amt1=check100(amt1)\n",
    "                  \n",
    "            else:\n",
    "                print(\"THIS DENOMINATION COMBINATION IS NOT AVAILABLE\")\n",
    "                amt=0\n",
    "                break;\n",
    "        balance=balance-amt\n",
    "        l.append(\"withdrawn \"+str(amt)+\" remaining balance: \"+str(balance))\n",
    "        print(\"-----------------------------------------------------------------------------\")\n",
    "        print(l)\n",
    "        print(\"-----------------------------------------------------------------------------\")\n",
    "\n",
    "    else:\n",
    "        print(\"you don't have suffucient balance\")\n",
    "        \n",
    "    print(wallet)    \n",
    "    ch=int(input(\"0. to continue press 0 \\n1. to exit press 1 \\n2. to view last 3 transactions press 2\\n\"))\n",
    "    if ch==1:\n",
    "        break\n",
    "    elif ch==2:\n",
    "        c=0\n",
    "        print(\"-----------------------------------------------------------------------------\")\n",
    "        print(\"\\t\\t MINI STATEMENT \\t\\t\")\n",
    "        for i in reversed(l):\n",
    "            print(i)\n",
    "            c=c+1\n",
    "            if c==3:\n",
    "                break\n",
    "        print(\"-----------------------------------------------------------------------------\")\n",
    "        print(\"Do you still want to continue :\")\n",
    "        ch1=input(\"enter choice: yes/ no \\n\") \n",
    "        if ch1==\"no\" or ch1==\"NO\":\n",
    "            break\n",
    "\n",
    "\n",
    "        "
   ]
  },
  {
   "cell_type": "code",
   "execution_count": 47,
   "metadata": {},
   "outputs": [
    {
     "data": {
      "text/plain": [
       "\"name   email   phone\\n('sejal', 'sejal@gmail.com', 132312)\\n('akanksha', 'abs@gmail.com', 52312)\\n('surbhi', 'surbhi@gmail.com', 31123)\\n('auav', 'garav@gmail.com', 43212)\\n\""
      ]
     },
     "execution_count": 47,
     "metadata": {},
     "output_type": "execute_result"
    }
   ],
   "source": [
    "#Assignment 3\n",
    "\n",
    "\n",
    "\n",
    "l=[[\"surbhi\",\"surbhi@gmail.com\",31123],[\"sejal\",\"sejal@gmail.com\",132312],\n",
    "   [\"akanksha\",\"abs@gmail.com\",52312],[\"auav\",\"garav@gmail.com\",43212],[\"surbhi\",\"surbhi@gmail.com\",31123]]\n",
    "\n",
    "s=[tuple(i) for i in l]\n",
    "l=(list(set(s)))\n",
    "with open('sample.txt','w') as file:\n",
    "    file.write(\"name   email   phone\\n\")\n",
    "    for i in l:\n",
    "        file.write(str(str(i)+\"\\n\"))\n",
    "\n",
    "file2=open('sample.txt','r')\n",
    "file2.read()"
   ]
  },
  {
   "cell_type": "code",
   "execution_count": 48,
   "metadata": {},
   "outputs": [
    {
     "name": "stdout",
     "output_type": "stream",
     "text": [
      "Starting balance: 5800\n",
      "To withdraw money \n",
      "enter the amount to be withdrawn: 100\n",
      "-----------------------------------------------------------------------------\n",
      "['withdrawn 100 remaining balance: 5700']\n",
      "-----------------------------------------------------------------------------\n",
      "0. to continue press 0 \n",
      "1. to exit press 1 \n",
      "2. to view last 3 transactions press 2\n",
      "0\n",
      "Do you still want to continue :\n",
      "enter choice: yes/ no \n",
      "yes\n",
      "To withdraw money \n",
      "enter the amount to be withdrawn: 1000\n",
      "-----------------------------------------------------------------------------\n",
      "['withdrawn 100 remaining balance: 5700', 'withdrawn 1000 remaining balance: 4700']\n",
      "-----------------------------------------------------------------------------\n",
      "0. to continue press 0 \n",
      "1. to exit press 1 \n",
      "2. to view last 3 transactions press 2\n",
      "0\n",
      "Do you still want to continue :\n",
      "enter choice: yes/ no \n",
      "yes\n",
      "To withdraw money \n",
      "enter the amount to be withdrawn: 200\n",
      "check 200\n",
      "-----------------------------------------------------------------------------\n",
      "['withdrawn 100 remaining balance: 5700', 'withdrawn 1000 remaining balance: 4700', 'withdrawn 200 remaining balance: 4500']\n",
      "-----------------------------------------------------------------------------\n",
      "0. to continue press 0 \n",
      "1. to exit press 1 \n",
      "2. to view last 3 transactions press 2\n",
      "2\n",
      "-----------------------------------------------------------------------------\n",
      "\t\t MINI STATEMENT \t\t\n",
      "withdrawn 200 remaining balance: 4500\n",
      "withdrawn 1000 remaining balance: 4700\n",
      "withdrawn 100 remaining balance: 5700\n",
      "-----------------------------------------------------------------------------\n",
      "Do you still want to continue :\n",
      "enter choice: yes/ no \n",
      "no\n"
     ]
    }
   ],
   "source": [
    "#Assignment 2\n",
    "\n",
    "balance=0\n",
    "wallet={100:2,200:3,500:10}\n",
    "for i in wallet:\n",
    "    balance=balance+(i*wallet[i])\n",
    "print(\"Starting balance:\",balance)\n",
    "\n",
    "    \n",
    "\n",
    "l=[]\n",
    "while(True):\n",
    "    print(\"To withdraw money \")\n",
    "    amt=int(input(\"enter the amount to be withdrawn: \"))\n",
    "    if amt< (balance*90)/100:\n",
    "        amt1=amt\n",
    "        #print(\"check 90% balance\")\n",
    "        while(amt1!=0):\n",
    "            if amt1%500==0:\n",
    "                #print(\"check 500\")\n",
    "                if wallet[500]!=0:\n",
    "                    if amt1/500<=wallet[500]:\n",
    "                        \n",
    "                        wallet[200]=int(wallet[500])-int(amt1/500)\n",
    "                        amt1=0\n",
    "                    else:\n",
    "                        am1t=amt1-wallet[500]*500\n",
    "                        wallet[500]=0\n",
    "                else:\n",
    "                    print(\"THIS DENOMINATION IS NOT AVAILABLE\")\n",
    "                    amt=0\n",
    "                    break\n",
    "                    \n",
    "            elif amt1%200==0:\n",
    "                print(\"check 200\")\n",
    "                if wallet[200]!=0:\n",
    "                    if amt1/200<=wallet[200]:\n",
    "                        \n",
    "                        wallet[200]=int(wallet[200])-int(amt1/200)\n",
    "                        amt1=0\n",
    "                    else:\n",
    "                        am1t=amt1-wallet[200]*200\n",
    "                        wallet[200]=0\n",
    "                else:\n",
    "                    print(\"THIS DENOMINATION IS NOT AVAILABLE\")\n",
    "                    amt=0\n",
    "                    break;\n",
    "                \n",
    "            elif amt1%100==0:\n",
    "                #print(\"check 100\",amt1)\n",
    "                if wallet[100]!=0:\n",
    "                    #print(wallet[100])\n",
    "                    if amt1/100<=wallet[100]:\n",
    "                        wallet[100]=int(wallet.get(100))-int(amt1/100)\n",
    "                        #print(wallet[100],int(amt1/100),amt)\n",
    "                        amt1=amt1-int(amt1/100)*100\n",
    "                        #print(amt1)\n",
    "                    else:\n",
    "                        am1t=amt1-(int(wallet[100])*100)\n",
    "                        wallet[100]=0\n",
    "                        #print(amt1)\n",
    "                    \n",
    "                else:\n",
    "                    print(\"THIS DENOMINATION IS NOT AVAILABLE\")\n",
    "                    amt=0\n",
    "                    break;\n",
    "                \n",
    "            else:\n",
    "                print(\"THIS DENOMINATION COMBINATION IS NOT AVAILABLE\")\n",
    "                amt=0\n",
    "                break;\n",
    "        balance=balance-amt\n",
    "        l.append(\"withdrawn \"+str(amt)+\" remaining balance: \"+str(balance))\n",
    "        print(\"-----------------------------------------------------------------------------\")\n",
    "        print(l)\n",
    "        print(\"-----------------------------------------------------------------------------\")\n",
    "\n",
    "    else:\n",
    "        print(\"you don't have suffucient balance\")\n",
    "        \n",
    "        \n",
    "    ch=int(input(\"0. to continue press 0 \\n1. to exit press 1 \\n2. to view last 3 transactions press 2\\n\"))\n",
    "    if ch==1:\n",
    "        break\n",
    "    elif ch==2:\n",
    "        c=0\n",
    "        print(\"-----------------------------------------------------------------------------\")\n",
    "        print(\"\\t\\t MINI STATEMENT \\t\\t\")\n",
    "        for i in reversed(l):\n",
    "            print(i)\n",
    "            c=c+1\n",
    "            if c==3:\n",
    "                break\n",
    "        print(\"-----------------------------------------------------------------------------\")\n",
    "    print(\"Do you still want to continue :\")\n",
    "    ch1=input(\"enter choice: yes/ no \\n\") \n",
    "    if ch1==\"no\" or ch1==\"NO\":\n",
    "        break\n",
    "\n",
    "\n",
    "        "
   ]
  },
  {
   "cell_type": "code",
   "execution_count": 2,
   "metadata": {},
   "outputs": [
    {
     "data": {
      "text/plain": [
       "200"
      ]
     },
     "execution_count": 2,
     "metadata": {},
     "output_type": "execute_result"
    }
   ],
   "source": [
    "700%500"
   ]
  },
  {
   "cell_type": "code",
   "execution_count": 4,
   "metadata": {},
   "outputs": [
    {
     "data": {
      "text/plain": [
       "0"
      ]
     },
     "execution_count": 4,
     "metadata": {},
     "output_type": "execute_result"
    }
   ],
   "source": [
    "200%200"
   ]
  },
  {
   "cell_type": "code",
   "execution_count": 5,
   "metadata": {},
   "outputs": [
    {
     "data": {
      "text/plain": [
       "400"
      ]
     },
     "execution_count": 5,
     "metadata": {},
     "output_type": "execute_result"
    }
   ],
   "source": [
    "2400%500"
   ]
  },
  {
   "cell_type": "code",
   "execution_count": 9,
   "metadata": {},
   "outputs": [
    {
     "data": {
      "text/plain": [
       "4"
      ]
     },
     "execution_count": 9,
     "metadata": {},
     "output_type": "execute_result"
    }
   ],
   "source": [
    "int(2400/500)"
   ]
  },
  {
   "cell_type": "code",
   "execution_count": 6,
   "metadata": {},
   "outputs": [
    {
     "data": {
      "text/plain": [
       "400"
      ]
     },
     "execution_count": 6,
     "metadata": {},
     "output_type": "execute_result"
    }
   ],
   "source": [
    "400%500"
   ]
  },
  {
   "cell_type": "code",
   "execution_count": 7,
   "metadata": {},
   "outputs": [
    {
     "data": {
      "text/plain": [
       "0"
      ]
     },
     "execution_count": 7,
     "metadata": {},
     "output_type": "execute_result"
    }
   ],
   "source": [
    "400%200"
   ]
  },
  {
   "cell_type": "code",
   "execution_count": null,
   "metadata": {},
   "outputs": [
    {
     "name": "stdout",
     "output_type": "stream",
     "text": [
      "Starting balance: 5800\n",
      "To withdraw money \n",
      "enter the amount to be withdrawn: 700\n",
      "-----------------------------------------------------------------------------\n",
      "['withdrawn 700 remaining balance: 5100']\n",
      "{100: 2, 200: 3, 500: 10}\n",
      "-----------------------------------------------------------------------------\n",
      "To withdraw money \n"
     ]
    }
   ],
   "source": [
    "#assignment 2 approch 3\n",
    "\n",
    "balance=0\n",
    "wallet={100:2,200:3,500:10}\n",
    "for i in wallet:\n",
    "    balance=balance+(i*wallet[i])\n",
    "print(\"Starting balance:\",balance)\n",
    "\n",
    "    \n",
    "\n",
    "l=[]\n",
    "while(True):\n",
    "    print(\"To withdraw money \")\n",
    "    amt=int(input(\"enter the amount to be withdrawn: \"))\n",
    "    if amt< (balance*90)/100:\n",
    "        if wallet[500]!=0 and amt!=0:\n",
    "            t=int(amt/wallet[500])\n",
    "            if t<=wallet[500]:\n",
    "                balance=balance-t*500\n",
    "                amt=amt%500\n",
    "        if wallet[200]!=0 and amt!=0:\n",
    "            t=int(amt/wallet[200])\n",
    "            if t<=wallet[200]:\n",
    "                balance=balance-t*200\n",
    "                amt=amt%200\n",
    "        if wallet[100]!=0 and amt!=0:\n",
    "            t=int(amt/wallet[100])\n",
    "            if t<=wallet[100]:\n",
    "                balance=balance-t*100\n",
    "                amt=amt%100\n",
    "        else:\n",
    "\n",
    "            print(\"THIS DENOMINATION COMBINATION IS NOT AVAILABLE\")\n",
    "            amt=0\n",
    "            break;\n",
    "        balance=balance-amt\n",
    "        l.append(\"withdrawn \"+str(amt)+\" remaining balance: \"+str(balance))\n",
    "        print(\"-----------------------------------------------------------------------------\")\n",
    "        print(l)\n",
    "        print(wallet)\n",
    "        print(\"-----------------------------------------------------------------------------\")"
   ]
  },
  {
   "cell_type": "code",
   "execution_count": null,
   "metadata": {},
   "outputs": [],
   "source": []
  }
 ],
 "metadata": {
  "kernelspec": {
   "display_name": "Python 3",
   "language": "python",
   "name": "python3"
  },
  "language_info": {
   "codemirror_mode": {
    "name": "ipython",
    "version": 3
   },
   "file_extension": ".py",
   "mimetype": "text/x-python",
   "name": "python",
   "nbconvert_exporter": "python",
   "pygments_lexer": "ipython3",
   "version": "3.7.6"
  }
 },
 "nbformat": 4,
 "nbformat_minor": 4
}
