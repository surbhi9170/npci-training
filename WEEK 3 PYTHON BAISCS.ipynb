{
 "cells": [
  {
   "cell_type": "code",
   "execution_count": 26,
   "metadata": {},
   "outputs": [
    {
     "name": "stdout",
     "output_type": "stream",
     "text": [
      "hello\n",
      "True\n",
      "<class 'complex'>\n",
      "9surbhi\n",
      "\n",
      " lists\n",
      "[1, 3]\n",
      "[21, 34, 'drtu', True]\n",
      "True\n",
      "7\n",
      "[1, 3, 5, 21, 34, 'drtu', True, '9']\n",
      "[1, 3, 5, 21, 34, 'drtu', True, '9']\n"
     ]
    }
   ],
   "source": [
    "#python is an interpretable language no need to compile\n",
    "#hello.py file content:\n",
    "\n",
    "print(\"hello\")\n",
    "\n",
    "\n",
    "\"\"\"multiline comments\"\"\"\n",
    "#single line comment6\n",
    "\n",
    "a=str(9)\n",
    "b=\"surbhi\"\n",
    "c=10+2j\n",
    "\n",
    "x,y,z=10,\"sur\",20\n",
    "print(isinstance(b,str))\n",
    "print(type(c))\n",
    "print(a+b)\n",
    "\n",
    "#lists\n",
    "print(\"\\n lists\")\n",
    "l=[1,3,5,21,34,\"drtu\",True]\n",
    "print(l[0:2])\n",
    "print(l[3:])\n",
    "#access last element of list\n",
    "print(l[-1])\n",
    "print(len(l))\n",
    "#add element at tail\n",
    "l.append(a)\n",
    "print(l)\n",
    "#or\n",
    "print(l[:])"
   ]
  },
  {
   "cell_type": "code",
   "execution_count": 27,
   "metadata": {},
   "outputs": [
    {
     "name": "stdout",
     "output_type": "stream",
     "text": [
      "less than 50\n"
     ]
    }
   ],
   "source": [
    "if x<50:\n",
    "    print(\"less than 50\")\n",
    "elif x<100 and x>50:\n",
    "    print(\"greater than 50\")"
   ]
  },
  {
   "cell_type": "code",
   "execution_count": 5,
   "metadata": {},
   "outputs": [
    {
     "name": "stdout",
     "output_type": "stream",
     "text": [
      "Enter no of studnets in class3\n",
      "enter namesurbhi\n",
      "enter marks in physics60\n",
      "enter marks in maths70\n",
      "enter marks in chemistry70\n",
      "enter namesejal\n",
      "enter marks in physics40\n",
      "enter marks in maths60\n",
      "enter marks in chemistry80\n",
      "enter nameakanksha\n",
      "enter marks in physics20\n",
      "enter marks in maths30\n",
      "enter marks in chemistry10\n",
      "1. List of students failed in more than two subjects: \n",
      " ['akanksha']\n",
      "2. List of students failed in one subject: \n",
      " ['sejal']\n",
      "3. Overall class performance: \n",
      "\n",
      "surbhi First division 66.66666666666666 %\n",
      "sejal First division 60.0 %\n"
     ]
    }
   ],
   "source": [
    "#assignment 1\n",
    "\n",
    "name=[]\n",
    "physics=[]\n",
    "maths=[]\n",
    "chem=[]\n",
    "pas=[]\n",
    "fail=[]\n",
    "fail1=[]\n",
    "grade=[]\n",
    "\n",
    "n=int(input(\"Enter no of studnets in class\"))\n",
    "for i in range(0,n):\n",
    "    name.append(input(\"enter name\"))\n",
    "    physics.append(int(input(\"enter marks in physics\")))\n",
    "    maths.append(int(input(\"enter marks in maths\")))\n",
    "    chem.append(int(input(\"enter marks in chemistry\")))\n",
    "    if (physics[i]>=50 and maths[i]>=50) or (chem[i]>=50 and maths[i]>=50) or (physics[i]>=50 and chem[i]>=50):\n",
    "        pas.append(name[i])\n",
    "        per=((physics[i]+maths[i]+chem[i])/300)*100\n",
    "        grade.append(per)\n",
    "        if physics[i]<50 or maths[i]<50 or chem[i]<50:\n",
    "            fail1.append(name[i])\n",
    "    else:\n",
    "        fail.append(name[i])\n",
    "\n",
    "print(\"1. List of students failed in more than two subjects: \\n\",fail)\n",
    "print(\"2. List of students failed in one subject: \\n\",fail1)\n",
    "print(\"3. Overall class performance: \\n\")\n",
    "for i in pas:\n",
    "    if int(grade[pas.index(i)])>=80:\n",
    "        print(i,\"distinction\",grade[pas.index(i)],\"%\")\n",
    "    elif int(grade[pas.index(i)])>=60 and int(grade[pas.index(i)])<80:\n",
    "        print(i,\"First division\",grade[pas.index(i)],\"%\")\n",
    "    elif int(grade[pas.index(i)])>=50 and int(grade[pas.index(i)])<60:\n",
    "        print(i,\"Second division\",grade[pas.index(i)],\"%\")\n"
   ]
  },
  {
   "cell_type": "code",
   "execution_count": null,
   "metadata": {},
   "outputs": [],
   "source": []
  }
 ],
 "metadata": {
  "kernelspec": {
   "display_name": "Python 3",
   "language": "python",
   "name": "python3"
  },
  "language_info": {
   "codemirror_mode": {
    "name": "ipython",
    "version": 3
   },
   "file_extension": ".py",
   "mimetype": "text/x-python",
   "name": "python",
   "nbconvert_exporter": "python",
   "pygments_lexer": "ipython3",
   "version": "3.7.6"
  }
 },
 "nbformat": 4,
 "nbformat_minor": 4
}
