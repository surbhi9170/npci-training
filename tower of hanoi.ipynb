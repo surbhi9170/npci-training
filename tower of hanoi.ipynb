{
 "cells": [
  {
   "cell_type": "code",
   "execution_count": 35,
   "metadata": {},
   "outputs": [
    {
     "name": "stdout",
     "output_type": "stream",
     "text": [
      "enter no of tower5\n",
      "    1 \n",
      "   2 2  \n",
      "  3 3 3   \n",
      " 4 4 4 4    \n",
      "5 5 5 5 5     \n",
      "row  1 : 1\n",
      "row  2 : 4\n",
      "row  3 : 9\n",
      "row  4 : 16\n",
      "row  5 : 25\n"
     ]
    }
   ],
   "source": [
    "n=int(input(\"enter no of tower\"))\n",
    "l=[]\n",
    "for i in range(1,n+1):\n",
    "    for j in range(1,n+1):\n",
    "        \n",
    "        if j==(n-i+1):\n",
    "            s=str(i)+\" \"\n",
    "            print(s*(i),end='')\n",
    "        else:\n",
    "            print(\" \",end='')\n",
    "    print()\n",
    "    l.append(i*i)\n",
    "    \n",
    "for i in l:\n",
    "    print(\"row \",l.index(i)+1,\":\",i)\n"
   ]
  },
  {
   "cell_type": "code",
   "execution_count": 36,
   "metadata": {},
   "outputs": [
    {
     "name": "stdout",
     "output_type": "stream",
     "text": [
      "enter no of tower5\n",
      "     \n",
      "    3 \n",
      "   6 6  \n",
      "  9 9 9   \n",
      " 12 12 12 12    \n",
      "row  1 : 0\n",
      "row  2 : 1\n",
      "row  3 : 4\n",
      "row  4 : 9\n",
      "row  5 : 16\n"
     ]
    }
   ],
   "source": [
    "n=int(input(\"enter no of tower\"))\n",
    "l=[]\n",
    "for i in range(1,n+1):\n",
    "    for j in range(1,n+1):\n",
    "        \n",
    "        if j==(n-i+1):\n",
    "            s=str(i)+\" \"\n",
    "            print(s*(i),end='')\n",
    "        else:\n",
    "            print(\" \",end='')\n",
    "    print()\n",
    "    l.append(i*i)\n",
    "    \n",
    "for i in l:\n",
    "    print(\"row \",l.index(i)+1,\":\",i)\n"
   ]
  },
  {
   "cell_type": "code",
   "execution_count": null,
   "metadata": {},
   "outputs": [],
   "source": []
  }
 ],
 "metadata": {
  "kernelspec": {
   "display_name": "Python 3",
   "language": "python",
   "name": "python3"
  },
  "language_info": {
   "codemirror_mode": {
    "name": "ipython",
    "version": 3
   },
   "file_extension": ".py",
   "mimetype": "text/x-python",
   "name": "python",
   "nbconvert_exporter": "python",
   "pygments_lexer": "ipython3",
   "version": "3.7.6"
  }
 },
 "nbformat": 4,
 "nbformat_minor": 4
}
