{
 "cells": [
  {
   "cell_type": "code",
   "execution_count": 1,
   "metadata": {},
   "outputs": [],
   "source": [
    "class Project():\n",
    "    def __init__(self,id,name,user):\n",
    "        self.id=id\n",
    "        self.name=name\n",
    "        self.user=user\n",
    "    "
   ]
  },
  {
   "cell_type": "code",
   "execution_count": 3,
   "metadata": {},
   "outputs": [],
   "source": [
    "class Users():\n",
    "    def __init__(self,id,name,salary):\n",
    "        self.id=id\n",
    "        self.name=name\n",
    "        self.salary=salary\n",
    "        "
   ]
  },
  {
   "cell_type": "code",
   "execution_count": 27,
   "metadata": {},
   "outputs": [],
   "source": [
    "users_list=[]\n",
    "users_list.append(Users(1,\"surbhi\",10000))\n",
    "users_list.append(Users(2,\"sejal\",20000))\n",
    "users_list.append(Users(3,\"akanksha\",4000))\n",
    "users_list.append(Users(4,\"gaurav\",60000))\n",
    "users_list.append(Users(5,\"jatin\",50000))\n",
    "users_list.append(Users(6,\"ram\",30000))\n",
    "users_list.append(Users(8,\"ujjwal\",15000))"
   ]
  },
  {
   "cell_type": "code",
   "execution_count": 28,
   "metadata": {},
   "outputs": [
    {
     "name": "stdout",
     "output_type": "stream",
     "text": [
      "1 surbhi 10000\n",
      "2 sejal 20000\n",
      "3 akanksha 4000\n",
      "4 gaurav 60000\n",
      "5 jatin 50000\n",
      "6 ram 30000\n",
      "8 ujjwal 15000\n"
     ]
    }
   ],
   "source": [
    "for i in users_list:\n",
    "    print(i.id,i.name,i.salary)"
   ]
  },
  {
   "cell_type": "code",
   "execution_count": 33,
   "metadata": {},
   "outputs": [],
   "source": [
    "project_list=[]\n",
    "project_list.append(Project(\"P1\",\"project1\",[i for i in users_list[:3]]))\n",
    "project_list.append(Project(\"P2\",\"project2\",[i for i in users_list[4:6]]))\n",
    "project_list.append(Project(\"P3\",\"project3\",[i for i in users_list[6:7]]))"
   ]
  },
  {
   "cell_type": "code",
   "execution_count": 42,
   "metadata": {},
   "outputs": [
    {
     "name": "stdout",
     "output_type": "stream",
     "text": [
      "P1 project1 [[1, 'surbhi', 10000], [2, 'sejal', 20000], [3, 'akanksha', 4000]]\n",
      "P2 project2 [[5, 'jatin', 50000], [6, 'ram', 30000]]\n",
      "P3 project3 [[8, 'ujjwal', 15000]]\n"
     ]
    }
   ],
   "source": [
    "for i in project_list:\n",
    "    print(i.id,i.name,[[j.id,j.name,j.salary] for j in i.user])\n"
   ]
  },
  {
   "cell_type": "code",
   "execution_count": 80,
   "metadata": {},
   "outputs": [
    {
     "name": "stdout",
     "output_type": "stream",
     "text": [
      "P1 project1\n",
      "3 akanksha 4000\n",
      "1 surbhi 10000\n",
      "2 sejal 20000\n",
      "----------------------------------------------------------\n",
      "P2 project2\n",
      "6 ram 30000\n",
      "5 jatin 50000\n",
      "----------------------------------------------------------\n",
      "P3 project3\n",
      "8 ujjwal 15000\n",
      "----------------------------------------------------------\n"
     ]
    }
   ],
   "source": [
    "#part 1\n",
    "for i in project_list:\n",
    "    print(i.id,i.name)\n",
    "    l=[j.salary for j in i.user]\n",
    "    for j in sorted(l):\n",
    "        print_details(j,i.user)\n",
    "    print(\"----------------------------------------------------------\")\n",
    "    "
   ]
  },
  {
   "cell_type": "code",
   "execution_count": 79,
   "metadata": {},
   "outputs": [],
   "source": [
    "def print_details(salary,l):\n",
    "    for i in l:\n",
    "        if i.salary==salary:\n",
    "            print(i.id,i.name,i.salary)\n",
    "    "
   ]
  },
  {
   "cell_type": "code",
   "execution_count": 78,
   "metadata": {},
   "outputs": [
    {
     "name": "stdout",
     "output_type": "stream",
     "text": [
      "('project1', 'akanksha') salary 4000\n",
      "('project1', 'surbhi') salary 10000\n",
      "('project3', 'ujjwal') salary 15000\n",
      "('project1', 'sejal') salary 20000\n",
      "('project2', 'ram') salary 30000\n",
      "('project2', 'jatin') salary 50000\n"
     ]
    }
   ],
   "source": [
    "#part 2\n",
    "d={}\n",
    "for i in project_list:\n",
    "    for k in i.user:\n",
    "        d[i.name,k.name]=k.salary \n",
    "for i in sorted(d.values()):\n",
    "    print(get_key(i,d),\"salary\",i)"
   ]
  },
  {
   "cell_type": "code",
   "execution_count": 74,
   "metadata": {},
   "outputs": [],
   "source": [
    "def get_key(value,d):\n",
    "    for k,v in d.items():\n",
    "        if v==value:\n",
    "            return k"
   ]
  },
  {
   "cell_type": "code",
   "execution_count": 86,
   "metadata": {},
   "outputs": [
    {
     "name": "stdout",
     "output_type": "stream",
     "text": [
      "('P1', 'project1') : [[3, 'akanksha', 4000], [1, 'surbhi', 10000], [2, 'sejal', 20000]]\n",
      "('P2', 'project2') : [[6, 'ram', 30000], [5, 'jatin', 50000]]\n",
      "('P3', 'project3') : [[8, 'ujjwal', 15000]]\n"
     ]
    }
   ],
   "source": [
    "#part 3\n",
    "project_dic={}\n",
    "for i in project_list:\n",
    "    l1=[]\n",
    "    l=[j.salary for j in i.user]\n",
    "    for j in sorted(l):\n",
    "        l1.append(get_details(j,i.user))\n",
    "    project_dic[i.id,i.name]=l1\n",
    "\n",
    "for k,v in project_dic.items():\n",
    "    print(k,\":\",v)"
   ]
  },
  {
   "cell_type": "code",
   "execution_count": 82,
   "metadata": {},
   "outputs": [],
   "source": [
    "def get_details(salary,l):\n",
    "    for i in l:\n",
    "        if i.salary==salary:\n",
    "            return [i.id,i.name,i.salary]\n",
    "    "
   ]
  },
  {
   "cell_type": "markdown",
   "metadata": {},
   "source": [
    "# Part 2"
   ]
  },
  {
   "cell_type": "code",
   "execution_count": 374,
   "metadata": {},
   "outputs": [],
   "source": [
    "class Project():\n",
    "    def __init__(self,id,name,user,effort):\n",
    "        self.id=id\n",
    "        self.name=name\n",
    "        self.user=user\n",
    "        self.effort=effort\n",
    "    \n",
    "    def add_user(self,user):\n",
    "        self.user.append(user)\n",
    "        user.projects.append(self.name)\n",
    "        print(\"user has been added successfully\")\n",
    "        \n",
    "    def get_user(self):\n",
    "        for i in self.user:\n",
    "            print(i.id,i.name,i.salary,i.effort,i.projects)\n",
    "        return [[j.id,j.name,j.salary,i.effort,i.projects] for j in self.user]\n",
    "    \n",
    "    def update_effort_all(self):\n",
    "        for i in self.user:\n",
    "            i.effort+=self.effort\n",
    "            if i.effort>=100:\n",
    "                print([i.id,i.name],\"Employee over utilized please check\")\n",
    "    \n",
    "    def update_effort(self,id):\n",
    "        for i in self.user:\n",
    "            if id==i.id:\n",
    "                i.effort+=self.effort\n",
    "                if i.effort>=100:\n",
    "                    print([i.id,i.name],\"Employee over utilized please check\")\n",
    "                \n",
    "    \"\"\"def remove_user(self,id):\n",
    "        for i in self.user:\n",
    "            if i.id==id:\n",
    "                #remove project from user list also\n",
    "                self.user.remove(i)\"\"\""
   ]
  },
  {
   "cell_type": "code",
   "execution_count": 375,
   "metadata": {},
   "outputs": [],
   "source": [
    "class Users():\n",
    "    def __init__(self,id,name,salary,effort,projects):\n",
    "        self.id=id\n",
    "        self.name=name\n",
    "        self.salary=salary\n",
    "        self.effort=effort\n",
    "        self.projects=projects\n",
    "        \n",
    "    def check_status(self):\n",
    "        if self.effort<30:\n",
    "            print(self.id,self.name,\"under utlized\")\n",
    "        elif self.effort>100:\n",
    "            print(self.id,self.name,\"over utlized please check\")\n",
    "    "
   ]
  },
  {
   "cell_type": "code",
   "execution_count": 376,
   "metadata": {},
   "outputs": [],
   "source": [
    "project1=Project(\"P1\",\"Project 1\",[],50)\n",
    "project2=Project(\"P2\",\"Project 2\",[],30)\n",
    "project3=Project(\"P3\",\"Project 3\",[],40)"
   ]
  },
  {
   "cell_type": "code",
   "execution_count": 377,
   "metadata": {},
   "outputs": [],
   "source": [
    "users_list=[]\n",
    "users_list.append(Users(\"1\",\"surbhi\",10000,0,[]))\n",
    "users_list.append(Users(\"2\",\"sejal\",20000,0,[]))\n",
    "users_list.append(Users(\"3\",\"akanksha\",4000,0,[]))\n",
    "users_list.append(Users(\"4\",\"gaurav\",60000,0,[]))\n",
    "users_list.append(Users(\"5\",\"jatin\",50000,0,[]))\n",
    "users_list.append(Users(\"6\",\"ram\",30000,0,[]))\n",
    "users_list.append(Users(\"7\",\"ujjwal\",15000,0,[]))"
   ]
  },
  {
   "cell_type": "code",
   "execution_count": 378,
   "metadata": {},
   "outputs": [
    {
     "name": "stdout",
     "output_type": "stream",
     "text": [
      "user has been added successfully\n",
      "user has been added successfully\n",
      "user has been added successfully\n",
      "user has been added successfully\n",
      "user has been added successfully\n",
      "user has been added successfully\n",
      "user has been added successfully\n",
      "user has been added successfully\n",
      "user has been added successfully\n"
     ]
    }
   ],
   "source": [
    "project1.add_user(users_list[0])\n",
    "project1.add_user(users_list[2])\n",
    "project1.add_user(users_list[4])\n",
    "\n",
    "project2.add_user(users_list[1])\n",
    "project2.add_user(users_list[3])\n",
    "project2.add_user(users_list[4])\n",
    "\n",
    "project3.add_user(users_list[5])\n",
    "project3.add_user(users_list[6])\n",
    "project3.add_user(users_list[0])"
   ]
  },
  {
   "cell_type": "code",
   "execution_count": 379,
   "metadata": {},
   "outputs": [
    {
     "name": "stdout",
     "output_type": "stream",
     "text": [
      "1 surbhi 10000 0 ['Project 1', 'Project 3']\n",
      "3 akanksha 4000 0 ['Project 1']\n",
      "5 jatin 50000 0 ['Project 1', 'Project 2']\n"
     ]
    },
    {
     "data": {
      "text/plain": [
       "[['1', 'surbhi', 10000, 0, ['Project 1', 'Project 2']],\n",
       " ['3', 'akanksha', 4000, 0, ['Project 1', 'Project 2']],\n",
       " ['5', 'jatin', 50000, 0, ['Project 1', 'Project 2']]]"
      ]
     },
     "execution_count": 379,
     "metadata": {},
     "output_type": "execute_result"
    }
   ],
   "source": [
    "project1.get_user()"
   ]
  },
  {
   "cell_type": "code",
   "execution_count": 380,
   "metadata": {},
   "outputs": [
    {
     "name": "stdout",
     "output_type": "stream",
     "text": [
      "2 sejal 20000 0 ['Project 2']\n",
      "4 gaurav 60000 0 ['Project 2']\n",
      "5 jatin 50000 0 ['Project 1', 'Project 2']\n"
     ]
    },
    {
     "data": {
      "text/plain": [
       "[['2', 'sejal', 20000, 0, ['Project 1', 'Project 2']],\n",
       " ['4', 'gaurav', 60000, 0, ['Project 1', 'Project 2']],\n",
       " ['5', 'jatin', 50000, 0, ['Project 1', 'Project 2']]]"
      ]
     },
     "execution_count": 380,
     "metadata": {},
     "output_type": "execute_result"
    }
   ],
   "source": [
    "project2.get_user()"
   ]
  },
  {
   "cell_type": "code",
   "execution_count": 381,
   "metadata": {},
   "outputs": [
    {
     "name": "stdout",
     "output_type": "stream",
     "text": [
      "6 ram 30000 0 ['Project 3']\n",
      "7 ujjwal 15000 0 ['Project 3']\n",
      "1 surbhi 10000 0 ['Project 1', 'Project 3']\n"
     ]
    },
    {
     "data": {
      "text/plain": [
       "[['6', 'ram', 30000, 0, ['Project 1', 'Project 3']],\n",
       " ['7', 'ujjwal', 15000, 0, ['Project 1', 'Project 3']],\n",
       " ['1', 'surbhi', 10000, 0, ['Project 1', 'Project 3']]]"
      ]
     },
     "execution_count": 381,
     "metadata": {},
     "output_type": "execute_result"
    }
   ],
   "source": [
    "project3.get_user()"
   ]
  },
  {
   "cell_type": "code",
   "execution_count": 382,
   "metadata": {},
   "outputs": [
    {
     "name": "stdout",
     "output_type": "stream",
     "text": [
      "1 surbhi 10000 50 ['Project 1', 'Project 3']\n",
      "3 akanksha 4000 50 ['Project 1']\n",
      "5 jatin 50000 50 ['Project 1', 'Project 2']\n"
     ]
    },
    {
     "data": {
      "text/plain": [
       "[['1', 'surbhi', 10000, 50, ['Project 1', 'Project 2']],\n",
       " ['3', 'akanksha', 4000, 50, ['Project 1', 'Project 2']],\n",
       " ['5', 'jatin', 50000, 50, ['Project 1', 'Project 2']]]"
      ]
     },
     "execution_count": 382,
     "metadata": {},
     "output_type": "execute_result"
    }
   ],
   "source": [
    "project1.update_effort_all()\n",
    "project1.get_user()"
   ]
  },
  {
   "cell_type": "code",
   "execution_count": 383,
   "metadata": {},
   "outputs": [
    {
     "name": "stdout",
     "output_type": "stream",
     "text": [
      "2 sejal 20000 30 ['Project 2']\n",
      "4 gaurav 60000 30 ['Project 2']\n",
      "5 jatin 50000 80 ['Project 1', 'Project 2']\n"
     ]
    },
    {
     "data": {
      "text/plain": [
       "[['2', 'sejal', 20000, 80, ['Project 1', 'Project 2']],\n",
       " ['4', 'gaurav', 60000, 80, ['Project 1', 'Project 2']],\n",
       " ['5', 'jatin', 50000, 80, ['Project 1', 'Project 2']]]"
      ]
     },
     "execution_count": 383,
     "metadata": {},
     "output_type": "execute_result"
    }
   ],
   "source": [
    "project2.update_effort_all()\n",
    "project2.get_user()"
   ]
  },
  {
   "cell_type": "code",
   "execution_count": 384,
   "metadata": {},
   "outputs": [
    {
     "name": "stdout",
     "output_type": "stream",
     "text": [
      "6 ram 30000 40 ['Project 3']\n",
      "7 ujjwal 15000 40 ['Project 3']\n",
      "1 surbhi 10000 90 ['Project 1', 'Project 3']\n"
     ]
    },
    {
     "data": {
      "text/plain": [
       "[['6', 'ram', 30000, 90, ['Project 1', 'Project 3']],\n",
       " ['7', 'ujjwal', 15000, 90, ['Project 1', 'Project 3']],\n",
       " ['1', 'surbhi', 10000, 90, ['Project 1', 'Project 3']]]"
      ]
     },
     "execution_count": 384,
     "metadata": {},
     "output_type": "execute_result"
    }
   ],
   "source": [
    "project3.update_effort_all()\n",
    "project3.get_user()"
   ]
  },
  {
   "cell_type": "code",
   "execution_count": 355,
   "metadata": {},
   "outputs": [
    {
     "name": "stdout",
     "output_type": "stream",
     "text": [
      "1 surbhi 10000 90 ['Project 1', 'Project 3']\n",
      "3 akanksha 4000 50 ['Project 1']\n",
      "5 jatin 50000 80 ['Project 1', 'Project 2']\n"
     ]
    },
    {
     "data": {
      "text/plain": [
       "[['1', 'surbhi', 10000, 80, ['Project 1', 'Project 2']],\n",
       " ['3', 'akanksha', 4000, 80, ['Project 1', 'Project 2']],\n",
       " ['5', 'jatin', 50000, 80, ['Project 1', 'Project 2']]]"
      ]
     },
     "execution_count": 355,
     "metadata": {},
     "output_type": "execute_result"
    }
   ],
   "source": [
    "project1.remove_user(3)\n",
    "project1.get_user()"
   ]
  },
  {
   "cell_type": "code",
   "execution_count": 385,
   "metadata": {},
   "outputs": [
    {
     "name": "stdout",
     "output_type": "stream",
     "text": [
      "1 surbhi 10000 90\n",
      "2 sejal 20000 30\n",
      "3 akanksha 4000 50\n",
      "4 gaurav 60000 30\n",
      "5 jatin 50000 80\n",
      "6 ram 30000 40\n",
      "7 ujjwal 15000 40\n"
     ]
    }
   ],
   "source": [
    "for i in users_list:\n",
    "    print(i.id,i.name,i.salary,i.effort)"
   ]
  },
  {
   "cell_type": "code",
   "execution_count": 386,
   "metadata": {},
   "outputs": [
    {
     "name": "stdout",
     "output_type": "stream",
     "text": [
      "user has been added successfully\n"
     ]
    }
   ],
   "source": [
    "project1.add_user(users_list[6])"
   ]
  },
  {
   "cell_type": "code",
   "execution_count": 387,
   "metadata": {},
   "outputs": [
    {
     "name": "stdout",
     "output_type": "stream",
     "text": [
      "1 surbhi 10000 90 ['Project 1', 'Project 3']\n",
      "3 akanksha 4000 50 ['Project 1']\n",
      "5 jatin 50000 80 ['Project 1', 'Project 2']\n",
      "7 ujjwal 15000 40 ['Project 3', 'Project 1']\n",
      "1 surbhi 10000 90 ['Project 1', 'Project 3']\n",
      "3 akanksha 4000 50 ['Project 1']\n",
      "5 jatin 50000 80 ['Project 1', 'Project 2']\n",
      "7 ujjwal 15000 90 ['Project 3', 'Project 1']\n"
     ]
    },
    {
     "data": {
      "text/plain": [
       "[['1', 'surbhi', 10000, 90, ['Project 3', 'Project 1']],\n",
       " ['3', 'akanksha', 4000, 90, ['Project 3', 'Project 1']],\n",
       " ['5', 'jatin', 50000, 90, ['Project 3', 'Project 1']],\n",
       " ['7', 'ujjwal', 15000, 90, ['Project 3', 'Project 1']]]"
      ]
     },
     "execution_count": 387,
     "metadata": {},
     "output_type": "execute_result"
    }
   ],
   "source": [
    "project1.get_user()\n",
    "project1.update_effort(\"7\")\n",
    "project1.get_user()"
   ]
  },
  {
   "cell_type": "code",
   "execution_count": 388,
   "metadata": {},
   "outputs": [
    {
     "name": "stdout",
     "output_type": "stream",
     "text": [
      "user has been added successfully\n",
      "['1', 'surbhi'] Employee over utilized please check\n"
     ]
    }
   ],
   "source": [
    "project2.add_user(users_list[0])\n",
    "project1.update_effort(\"1\")"
   ]
  },
  {
   "cell_type": "code",
   "execution_count": 391,
   "metadata": {},
   "outputs": [
    {
     "name": "stdout",
     "output_type": "stream",
     "text": [
      "1 surbhi 10000 140 ['Project 1', 'Project 3', 'Project 2'] 1 surbhi over utlized please check\n",
      "\n",
      "2 sejal 20000 30 ['Project 2'] \n",
      "3 akanksha 4000 50 ['Project 1'] \n",
      "4 gaurav 60000 30 ['Project 2'] \n",
      "5 jatin 50000 80 ['Project 1', 'Project 2'] \n",
      "6 ram 30000 40 ['Project 3'] \n",
      "7 ujjwal 15000 90 ['Project 3', 'Project 1'] \n"
     ]
    }
   ],
   "source": [
    "for i in users_list:\n",
    "    print(i.id,i.name,i.salary,i.effort,i.projects,end=\" \")\n",
    "    i.check_status()\n",
    "    print()"
   ]
  },
  {
   "cell_type": "code",
   "execution_count": null,
   "metadata": {},
   "outputs": [],
   "source": []
  }
 ],
 "metadata": {
  "kernelspec": {
   "display_name": "Python 3",
   "language": "python",
   "name": "python3"
  },
  "language_info": {
   "codemirror_mode": {
    "name": "ipython",
    "version": 3
   },
   "file_extension": ".py",
   "mimetype": "text/x-python",
   "name": "python",
   "nbconvert_exporter": "python",
   "pygments_lexer": "ipython3",
   "version": "3.7.6"
  }
 },
 "nbformat": 4,
 "nbformat_minor": 4
}
