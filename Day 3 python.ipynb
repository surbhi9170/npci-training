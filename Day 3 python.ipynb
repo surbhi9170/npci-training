{
 "cells": [
  {
   "cell_type": "code",
   "execution_count": 2,
   "metadata": {},
   "outputs": [
    {
     "name": "stdout",
     "output_type": "stream",
     "text": [
      "1. To add new element to the list \n",
      "2. to create dictionary from a list\n",
      "sort dictionary in descending order based on value\n",
      "Enter your choice3\n",
      "enter elements of list1,2,3\n",
      "{3: 3, 2: 2, 1: 1}\n"
     ]
    }
   ],
   "source": [
    "print(\"1. To add new element to the list \")\n",
    "print(\"2. to create dictionary from a list\")\n",
    "print(\"sort dictionary in descending order based on value\")\n",
    "ch=int(input(\"Enter your choice\"))\n",
    "\n",
    "l=list(map(lambda x: int(x),(input(\"enter elements of list\").split(\",\"))))\n",
    "\n",
    "if ch==1:\n",
    "    new=int(input(\"enter element to be added\"))\n",
    "    l.append(new)\n",
    "    print(l)\n",
    "elif ch==2:\n",
    "    dic={i:i for i in l}\n",
    "    print(dic)\n",
    "elif ch==3:\n",
    "    rl=sorted(l,reverse=True)\n",
    "    dic={i:i for i in rl}\n",
    "    print(dic)"
   ]
  },
  {
   "cell_type": "code",
   "execution_count": null,
   "metadata": {},
   "outputs": [],
   "source": []
  },
  {
   "cell_type": "code",
   "execution_count": null,
   "metadata": {},
   "outputs": [],
   "source": []
  },
  {
   "cell_type": "code",
   "execution_count": null,
   "metadata": {},
   "outputs": [],
   "source": []
  }
 ],
 "metadata": {
  "kernelspec": {
   "display_name": "Python 3",
   "language": "python",
   "name": "python3"
  },
  "language_info": {
   "codemirror_mode": {
    "name": "ipython",
    "version": 3
   },
   "file_extension": ".py",
   "mimetype": "text/x-python",
   "name": "python",
   "nbconvert_exporter": "python",
   "pygments_lexer": "ipython3",
   "version": "3.7.6"
  }
 },
 "nbformat": 4,
 "nbformat_minor": 4
}
