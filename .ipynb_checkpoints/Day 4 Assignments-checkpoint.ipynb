{
 "cells": [
  {
   "cell_type": "code",
   "execution_count": 1,
   "metadata": {},
   "outputs": [],
   "source": [
    "class Project():\n",
    "    def __init__(self,id,name,user):\n",
    "        self.id=id\n",
    "        self.name=name\n",
    "        self.user=user\n",
    "    "
   ]
  },
  {
   "cell_type": "code",
   "execution_count": 3,
   "metadata": {},
   "outputs": [],
   "source": [
    "class Users():\n",
    "    def __init__(self,id,name,salary):\n",
    "        self.id=id\n",
    "        self.name=name\n",
    "        self.salary=salary\n",
    "        "
   ]
  },
  {
   "cell_type": "code",
   "execution_count": 27,
   "metadata": {},
   "outputs": [],
   "source": [
    "users_list=[]\n",
    "users_list.append(Users(1,\"surbhi\",10000))\n",
    "users_list.append(Users(2,\"sejal\",20000))\n",
    "users_list.append(Users(3,\"akanksha\",4000))\n",
    "users_list.append(Users(4,\"gaurav\",60000))\n",
    "users_list.append(Users(5,\"jatin\",50000))\n",
    "users_list.append(Users(6,\"ram\",30000))\n",
    "users_list.append(Users(8,\"ujjwal\",15000))"
   ]
  },
  {
   "cell_type": "code",
   "execution_count": 28,
   "metadata": {},
   "outputs": [
    {
     "name": "stdout",
     "output_type": "stream",
     "text": [
      "1 surbhi 10000\n",
      "2 sejal 20000\n",
      "3 akanksha 4000\n",
      "4 gaurav 60000\n",
      "5 jatin 50000\n",
      "6 ram 30000\n",
      "8 ujjwal 15000\n"
     ]
    }
   ],
   "source": [
    "for i in users_list:\n",
    "    print(i.id,i.name,i.salary)"
   ]
  },
  {
   "cell_type": "code",
   "execution_count": 33,
   "metadata": {},
   "outputs": [],
   "source": [
    "project_list=[]\n",
    "project_list.append(Project(\"P1\",\"project1\",[i for i in users_list[:3]]))\n",
    "project_list.append(Project(\"P2\",\"project2\",[i for i in users_list[4:6]]))\n",
    "project_list.append(Project(\"P3\",\"project3\",[i for i in users_list[6:7]]))"
   ]
  },
  {
   "cell_type": "code",
   "execution_count": 42,
   "metadata": {},
   "outputs": [
    {
     "name": "stdout",
     "output_type": "stream",
     "text": [
      "P1 project1 [[1, 'surbhi', 10000], [2, 'sejal', 20000], [3, 'akanksha', 4000]]\n",
      "P2 project2 [[5, 'jatin', 50000], [6, 'ram', 30000]]\n",
      "P3 project3 [[8, 'ujjwal', 15000]]\n"
     ]
    }
   ],
   "source": [
    "for i in project_list:\n",
    "    print(i.id,i.name,[[j.id,j.name,j.salary] for j in i.user])\n"
   ]
  },
  {
   "cell_type": "code",
   "execution_count": 80,
   "metadata": {},
   "outputs": [
    {
     "name": "stdout",
     "output_type": "stream",
     "text": [
      "P1 project1\n",
      "3 akanksha 4000\n",
      "1 surbhi 10000\n",
      "2 sejal 20000\n",
      "----------------------------------------------------------\n",
      "P2 project2\n",
      "6 ram 30000\n",
      "5 jatin 50000\n",
      "----------------------------------------------------------\n",
      "P3 project3\n",
      "8 ujjwal 15000\n",
      "----------------------------------------------------------\n"
     ]
    }
   ],
   "source": [
    "#part 1\n",
    "for i in project_list:\n",
    "    print(i.id,i.name)\n",
    "    l=[j.salary for j in i.user]\n",
    "    for j in sorted(l):\n",
    "        print_details(j,i.user)\n",
    "    print(\"----------------------------------------------------------\")\n",
    "    "
   ]
  },
  {
   "cell_type": "code",
   "execution_count": 79,
   "metadata": {},
   "outputs": [],
   "source": [
    "def print_details(salary,l):\n",
    "    for i in l:\n",
    "        if i.salary==salary:\n",
    "            print(i.id,i.name,i.salary)\n",
    "    "
   ]
  },
  {
   "cell_type": "code",
   "execution_count": 78,
   "metadata": {},
   "outputs": [
    {
     "name": "stdout",
     "output_type": "stream",
     "text": [
      "('project1', 'akanksha') salary 4000\n",
      "('project1', 'surbhi') salary 10000\n",
      "('project3', 'ujjwal') salary 15000\n",
      "('project1', 'sejal') salary 20000\n",
      "('project2', 'ram') salary 30000\n",
      "('project2', 'jatin') salary 50000\n"
     ]
    }
   ],
   "source": [
    "#part 2\n",
    "d={}\n",
    "for i in project_list:\n",
    "    for k in i.user:\n",
    "        d[i.name,k.name]=k.salary \n",
    "for i in sorted(d.values()):\n",
    "    print(get_key(i,d),\"salary\",i)"
   ]
  },
  {
   "cell_type": "code",
   "execution_count": 74,
   "metadata": {},
   "outputs": [],
   "source": [
    "def get_key(value,d):\n",
    "    for k,v in d.items():\n",
    "        if v==value:\n",
    "            return k"
   ]
  },
  {
   "cell_type": "code",
   "execution_count": 86,
   "metadata": {},
   "outputs": [
    {
     "name": "stdout",
     "output_type": "stream",
     "text": [
      "('P1', 'project1') : [[3, 'akanksha', 4000], [1, 'surbhi', 10000], [2, 'sejal', 20000]]\n",
      "('P2', 'project2') : [[6, 'ram', 30000], [5, 'jatin', 50000]]\n",
      "('P3', 'project3') : [[8, 'ujjwal', 15000]]\n"
     ]
    }
   ],
   "source": [
    "#part 3\n",
    "project_dic={}\n",
    "for i in project_list:\n",
    "    l1=[]\n",
    "    l=[j.salary for j in i.user]\n",
    "    for j in sorted(l):\n",
    "        l1.append(get_details(j,i.user))\n",
    "    project_dic[i.id,i.name]=l1\n",
    "\n",
    "for k,v in project_dic.items():\n",
    "    print(k,\":\",v)"
   ]
  },
  {
   "cell_type": "code",
   "execution_count": 82,
   "metadata": {},
   "outputs": [],
   "source": [
    "def get_details(salary,l):\n",
    "    for i in l:\n",
    "        if i.salary==salary:\n",
    "            return [i.id,i.name,i.salary]\n",
    "    "
   ]
  },
  {
   "cell_type": "markdown",
   "metadata": {},
   "source": [
    "# Part 2"
   ]
  },
  {
   "cell_type": "code",
   "execution_count": 180,
   "metadata": {},
   "outputs": [],
   "source": [
    "class Project():\n",
    "    def __init__(self,id,name,user,effort):\n",
    "        self.id=id\n",
    "        self.name=name\n",
    "        self.user=user\n",
    "        self.effort=effort\n",
    "    \n",
    "    def add_user(self,user):\n",
    "        self.user.append(user)\n",
    "        print(\"user has been added successfully\")\n",
    "        \n",
    "    def get_user(self):\n",
    "        for i in self.user:\n",
    "            print(i.id,i.name,i.salary,i.effort)\n",
    "        return [[j.id,j.name,j.salary,i.effort] for j in self.user]\n",
    "    \n",
    "    def update_effort(self):\n",
    "        for i in self.user:\n",
    "            i.effort+=self.effort"
   ]
  },
  {
   "cell_type": "code",
   "execution_count": 181,
   "metadata": {},
   "outputs": [],
   "source": [
    "class Users():\n",
    "    def __init__(self,id,name,salary,effort):\n",
    "        self.id=id\n",
    "        self.name=name\n",
    "        self.salary=salary\n",
    "        self.effort=effort\n",
    "        \n",
    "    \n",
    "        "
   ]
  },
  {
   "cell_type": "code",
   "execution_count": 182,
   "metadata": {},
   "outputs": [],
   "source": [
    "project1=Project(\"P1\",\"Project 1\",[],50)"
   ]
  },
  {
   "cell_type": "code",
   "execution_count": 183,
   "metadata": {},
   "outputs": [],
   "source": [
    "users_list=[]\n",
    "users_list.append(Users(1,\"surbhi\",10000,0))\n",
    "users_list.append(Users(2,\"sejal\",20000,0))\n",
    "users_list.append(Users(3,\"akanksha\",4000,0))\n",
    "users_list.append(Users(4,\"gaurav\",60000,0))\n",
    "users_list.append(Users(5,\"jatin\",50000,0))\n",
    "users_list.append(Users(6,\"ram\",30000,0))\n",
    "users_list.append(Users(8,\"ujjwal\",15000,0))"
   ]
  },
  {
   "cell_type": "code",
   "execution_count": 184,
   "metadata": {},
   "outputs": [
    {
     "name": "stdout",
     "output_type": "stream",
     "text": [
      "user has been added successfully\n",
      "user has been added successfully\n",
      "user has been added successfully\n"
     ]
    }
   ],
   "source": [
    "project1.add_user(users_list[0])\n",
    "project1.add_user(users_list[2])\n",
    "project1.add_user(users_list[4])"
   ]
  },
  {
   "cell_type": "code",
   "execution_count": 185,
   "metadata": {},
   "outputs": [
    {
     "name": "stdout",
     "output_type": "stream",
     "text": [
      "1 surbhi 10000 0\n",
      "3 akanksha 4000 0\n",
      "5 jatin 50000 0\n"
     ]
    },
    {
     "data": {
      "text/plain": [
       "[[1, 'surbhi', 10000, 0], [3, 'akanksha', 4000, 0], [5, 'jatin', 50000, 0]]"
      ]
     },
     "execution_count": 185,
     "metadata": {},
     "output_type": "execute_result"
    }
   ],
   "source": [
    "project1.get_user()"
   ]
  },
  {
   "cell_type": "code",
   "execution_count": 186,
   "metadata": {},
   "outputs": [
    {
     "name": "stdout",
     "output_type": "stream",
     "text": [
      "1 surbhi 10000 50\n",
      "3 akanksha 4000 50\n",
      "5 jatin 50000 50\n"
     ]
    },
    {
     "data": {
      "text/plain": [
       "[[1, 'surbhi', 10000, 50], [3, 'akanksha', 4000, 50], [5, 'jatin', 50000, 50]]"
      ]
     },
     "execution_count": 186,
     "metadata": {},
     "output_type": "execute_result"
    }
   ],
   "source": [
    "project1.update_effort()\n",
    "project1.get_user()"
   ]
  },
  {
   "cell_type": "code",
   "execution_count": null,
   "metadata": {},
   "outputs": [],
   "source": []
  }
 ],
 "metadata": {
  "kernelspec": {
   "display_name": "Python 3",
   "language": "python",
   "name": "python3"
  },
  "language_info": {
   "codemirror_mode": {
    "name": "ipython",
    "version": 3
   },
   "file_extension": ".py",
   "mimetype": "text/x-python",
   "name": "python",
   "nbconvert_exporter": "python",
   "pygments_lexer": "ipython3",
   "version": "3.7.6"
  }
 },
 "nbformat": 4,
 "nbformat_minor": 4
}
