{
 "cells": [
  {
   "cell_type": "code",
   "execution_count": 4,
   "metadata": {},
   "outputs": [
    {
     "name": "stdout",
     "output_type": "stream",
     "text": [
      "tuple is: (1, 2, 5, (5, 8, 7, (8, 7, 1, (5, 1))))\n",
      "(1, 2, 5, (5, 8, 7, (8, 7, 1, (5, 1))))\n",
      "1\n",
      "(5, 8, 7, (8, 7, 1, (5, 1)))\n",
      "2\n",
      "(8, 7, 1, (5, 1))\n",
      "3\n",
      "(5, 1)\n",
      "4\n"
     ]
    }
   ],
   "source": [
    "#Assignment 1\n",
    "t=(1,2,5,(5,8,7,(8,7,1,(5,1))))\n",
    "print(\"tuple is:\",t)\n",
    "c=0\n",
    "while t:\n",
    "    for i in t:\n",
    "        if isinstance(i,tuple):\n",
    "            print(t)\n",
    "            t=i\n",
    "            del i\n",
    "            c=c+1\n",
    "            print(c)\n",
    "    if len(t)==2:\n",
    "        print(t)\n",
    "        c=c+1\n",
    "        print(c)\n",
    "        break\n",
    "        \n",
    "print(\"no of levels: \")            "
   ]
  },
  {
   "cell_type": "code",
   "execution_count": null,
   "metadata": {},
   "outputs": [],
   "source": []
  }
 ],
 "metadata": {
  "kernelspec": {
   "display_name": "Python 3",
   "language": "python",
   "name": "python3"
  },
  "language_info": {
   "codemirror_mode": {
    "name": "ipython",
    "version": 3
   },
   "file_extension": ".py",
   "mimetype": "text/x-python",
   "name": "python",
   "nbconvert_exporter": "python",
   "pygments_lexer": "ipython3",
   "version": "3.7.6"
  }
 },
 "nbformat": 4,
 "nbformat_minor": 4
}
